{
  "nbformat": 4,
  "nbformat_minor": 0,
  "metadata": {
    "colab": {
      "name": "Test CASE-1",
      "version": "0.3.2",
      "provenance": [],
      "collapsed_sections": [],
      "include_colab_link": true
    },
    "kernelspec": {
      "name": "python3",
      "display_name": "Python 3"
    }
  },
  "cells": [
    {
      "cell_type": "markdown",
      "metadata": {
        "id": "view-in-github",
        "colab_type": "text"
      },
      "source": [
        "<a href=\"https://colab.research.google.com/github/namgayd/CSPP-1-2019/blob/master/Test_CASE_1.ipynb\" target=\"_parent\"><img src=\"https://colab.research.google.com/assets/colab-badge.svg\" alt=\"Open In Colab\"/></a>"
      ]
    },
    {
      "metadata": {
        "id": "0YLZuu0WNJ5P",
        "colab_type": "text"
      },
      "cell_type": "markdown",
      "source": [
        "The parameter weekday is True if it is a weekday, and the parameter vacation is True if we are on vacation. We sleep in if it is not a weekday or we're on vacation. Return True if we sleep in.\n",
        "\n",
        "\n",
        "sleep_in(False, False) → True\n",
        "sleep_in(True, False) → False\n",
        "sleep_in(False, True) → True"
      ]
    },
    {
      "metadata": {
        "id": "giOzcIImNkkp",
        "colab_type": "code",
        "outputId": "713a7683-c487-4b94-d7bd-7a13c8503fec",
        "colab": {
          "base_uri": "https://localhost:8080/",
          "height": 34
        }
      },
      "cell_type": "code",
      "source": [
        "def sleep_in(weekday, vacation):\n",
        "  if(weekday==True):\n",
        "      return False\n",
        "  if(vacation==True):\n",
        "      return True\n",
        "  if(weekday==False):\n",
        "      return True\n",
        "  if(vacation==False):\n",
        "       return False\n",
        "      \n",
        "  \n",
        "  \n",
        "assert sleep_in(False, False) == True\n",
        "assert sleep_in(True, False) == False\n",
        "assert sleep_in(False, True) == True\n",
        "print(\"All the testcases passed!!!\")"
      ],
      "execution_count": 0,
      "outputs": [
        {
          "output_type": "stream",
          "text": [
            "All the testcases passed!!!\n"
          ],
          "name": "stdout"
        }
      ]
    },
    {
      "metadata": {
        "id": "qBA2Ck70TxKh",
        "colab_type": "code",
        "colab": {}
      },
      "cell_type": "code",
      "source": [
        ""
      ],
      "execution_count": 0,
      "outputs": []
    },
    {
      "metadata": {
        "id": "MSJjGpMoOL75",
        "colab_type": "text"
      },
      "cell_type": "markdown",
      "source": [
        "We have two monkeys, a and b, and the parameters a_smile and b_smile indicate if each is smiling. We are in trouble if they are both smiling or if neither of them is smiling. Return True if we are in trouble.\n",
        "\n",
        "\n",
        "monkey_trouble(True, True) → True\n",
        "monkey_trouble(False, False) → True\n",
        "monkey_trouble(True, False) → False"
      ]
    },
    {
      "metadata": {
        "id": "WCxOzKqZOUN1",
        "colab_type": "code",
        "outputId": "9994b375-ceae-4333-cf56-d1797e44cea2",
        "colab": {
          "base_uri": "https://localhost:8080/",
          "height": 34
        }
      },
      "cell_type": "code",
      "source": [
        "def monkey_trouble(a_smile, b_smile):\n",
        "  \n",
        "  if(a_smile==True and b_smile==True):\n",
        "    return True\n",
        "  if(a_smile==False and b_smile==False): \n",
        "    return True\n",
        "  if(a_smile==True and b_smile==False):\n",
        "    return False\n",
        "  if(a_smile==False and b_smile==True):\n",
        "    return False\n",
        "\n",
        "\n",
        " \n",
        "  \n",
        "  \n",
        "    \n",
        "assert monkey_trouble(True, True) == True\t\t\n",
        "assert monkey_trouble(False, False) == True\t\t\n",
        "assert monkey_trouble(True, False) == False\t\n",
        "assert monkey_trouble(False, True) ==False\n",
        "print(\"All the testcases passed\")"
      ],
      "execution_count": 0,
      "outputs": [
        {
          "output_type": "stream",
          "text": [
            "All the testcases passed\n"
          ],
          "name": "stdout"
        }
      ]
    },
    {
      "metadata": {
        "id": "sjLUHoCuO9ej",
        "colab_type": "text"
      },
      "cell_type": "markdown",
      "source": [
        "Given two int values, return their sum. Unless the two values are the same, then return double their sum.\n",
        "\n",
        "\n",
        "sum_double(1, 2) → 3\n",
        "sum_double(3, 2) → 5\n",
        "sum_double(2, 2) → 8"
      ]
    },
    {
      "metadata": {
        "id": "_XvpSPspRPk5",
        "colab_type": "code",
        "outputId": "82713d90-61c2-4483-97ef-9844c2131156",
        "colab": {
          "base_uri": "https://localhost:8080/",
          "height": 34
        }
      },
      "cell_type": "code",
      "source": [
        "def sum_double(a, b):\n",
        "  sum=a+b\n",
        "  if(a!=b):\n",
        "    return sum\n",
        "  if(a==b):\n",
        "    sum_double=2*sum\n",
        "    return sum_double\n",
        "\n",
        "assert sum_double(1, 2) == 3\t\n",
        "assert sum_double(3, 2) == 5\t\t\n",
        "assert sum_double(2, 2) == 8\t\n",
        "assert sum_double(-1, 0) == -1\t\n",
        "assert sum_double(3, 3) == 12\t\n",
        "assert sum_double(0, 0) == 0\t\t\n",
        "assert sum_double(0, 1) == 1\t\t\n",
        "assert sum_double(3, 4) == 7\t\n",
        "print(\"All the testcases passed\")"
      ],
      "execution_count": 0,
      "outputs": [
        {
          "output_type": "stream",
          "text": [
            "All the testcases passed\n"
          ],
          "name": "stdout"
        }
      ]
    },
    {
      "metadata": {
        "id": "6kvOj3ZRSmYf",
        "colab_type": "text"
      },
      "cell_type": "markdown",
      "source": [
        "Given an int n, return the absolute difference between n and 21, except return double the absolute difference if n is over 21.\n",
        "\n",
        "\n",
        "diff21(19) → 2\n",
        "diff21(10) → 11\n",
        "diff21(21) → 0"
      ]
    },
    {
      "metadata": {
        "id": "Wfw2juJWStEB",
        "colab_type": "code",
        "outputId": "c623649c-c917-4a14-f27e-7f01a194151f",
        "colab": {
          "base_uri": "https://localhost:8080/",
          "height": 34
        }
      },
      "cell_type": "code",
      "source": [
        "def diff21(n):\n",
        "  \n",
        "  if(n<21):\n",
        "    diff21=21-n\n",
        "    return diff21\n",
        "  if(n>21):\n",
        "    diff21=2*(n-21)\n",
        "    return diff21\n",
        "  if(n==21):\n",
        "    return 0\n",
        "    \n",
        "    \n",
        "  \n",
        "  \n",
        "assert diff21(19) == 2\t\n",
        "assert diff21(10) ==  11\t\t\n",
        "assert diff21(21) == 0\t\t\n",
        "assert diff21(22) == 2\t\t\n",
        "assert diff21(25) == 8\t\n",
        "assert diff21(30) == 18\t\t\n",
        "assert diff21(0) == 21\t\t\n",
        "assert diff21(1) == 20\t\t\n",
        "assert diff21(2) == 19\t\n",
        "assert diff21(-1) == 22\t\t\n",
        "assert diff21(-2) == 23\t\n",
        "assert diff21(50) == 58\t\n",
        "print(\"All the testcases passed\")"
      ],
      "execution_count": 0,
      "outputs": [
        {
          "output_type": "stream",
          "text": [
            "All the testcases passed\n"
          ],
          "name": "stdout"
        }
      ]
    },
    {
      "metadata": {
        "id": "Ca3KlRa7TcoX",
        "colab_type": "text"
      },
      "cell_type": "markdown",
      "source": [
        "We have a loud talking parrot. The \"hour\" parameter is the current hour time in the range 0..23. We are in trouble if the parrot is talking and the hour is before 7 or after 20. Return True if we are in trouble.\n",
        "\n",
        "\n",
        "parrot_trouble(True, 6) → True\n",
        "parrot_trouble(True, 7) → False\n",
        "parrot_trouble(False, 6) → False"
      ]
    },
    {
      "metadata": {
        "id": "26IIf16XTkYL",
        "colab_type": "code",
        "outputId": "3e6c847d-ef8e-4122-dad1-44d9f1797efb",
        "colab": {
          "base_uri": "https://localhost:8080/",
          "height": 34
        }
      },
      "cell_type": "code",
      "source": [
        "def parrot_trouble(talking, hour):\n",
        "  \n",
        "    if(talking  and (hour>20 or hour <7)):\n",
        "      return True\n",
        "    return False\n",
        "  \n",
        "  \n",
        "  \n",
        "  \n",
        "\n",
        "assert parrot_trouble(True, 6) == True\t\n",
        "assert parrot_trouble(True, 7) == False\t\t\n",
        "assert parrot_trouble(False, 6) == False\t\n",
        "assert parrot_trouble(True, 21) == True\n",
        "assert parrot_trouble(False, 21) == False\t\n",
        "assert parrot_trouble(False, 20) == False\n",
        "assert parrot_trouble(True, 23) == True\n",
        "assert parrot_trouble(False, 23) == False\n",
        "assert parrot_trouble(True, 20) == False\n",
        "assert parrot_trouble(False, 12) == False\n",
        "print(\"All the testcases passed\")"
      ],
      "execution_count": 0,
      "outputs": [
        {
          "output_type": "stream",
          "text": [
            "All the testcases passed\n"
          ],
          "name": "stdout"
        }
      ]
    },
    {
      "metadata": {
        "id": "vUbnzysgUW9S",
        "colab_type": "text"
      },
      "cell_type": "markdown",
      "source": [
        "Given 2 ints, a and b, return True if one if them is 10 or if their sum is 10.\n",
        "\n",
        "\n",
        "makes10(9, 10) → True\n",
        "makes10(9, 9) → False\n",
        "makes10(1, 9) → True"
      ]
    },
    {
      "metadata": {
        "id": "JYwedJEUUX8L",
        "colab_type": "code",
        "outputId": "eec6e6e7-2dd4-46a0-d714-6e199dd5264c",
        "colab": {
          "base_uri": "https://localhost:8080/",
          "height": 34
        }
      },
      "cell_type": "code",
      "source": [
        "def makes10(a, b):\n",
        " \n",
        "  \n",
        "  if(a==10 or a+b==10):\n",
        "    return True\n",
        "  if(b==10 or a+b==10):\n",
        "    return True\n",
        "  \n",
        "  return False\n",
        "  \n",
        "   \n",
        "  \n",
        "  #complete the code\n",
        "  pass\n",
        "assert makes10(9, 10) == True\n",
        "assert makes10(9, 9) == False\n",
        "assert makes10(1, 9) == True\n",
        "assert makes10(10, 1) == True\n",
        "assert makes10(10, 10) == True\n",
        "assert makes10(8, 2) == True\n",
        "assert makes10(8, 3) == False\n",
        "assert makes10(10, 42) == True\n",
        "assert makes10(12, -2) == True\n",
        "print(\"All the testcases passed\")"
      ],
      "execution_count": 0,
      "outputs": [
        {
          "output_type": "stream",
          "text": [
            "All the testcases passed\n"
          ],
          "name": "stdout"
        }
      ]
    },
    {
      "metadata": {
        "id": "PbLJDLquVUBb",
        "colab_type": "text"
      },
      "cell_type": "markdown",
      "source": [
        "Given an int n, return True if it is within 10 of 100 or 200. Note: abs(num) computes the absolute value of a number.\n",
        "\n",
        "\n",
        "near_hundred(93) → True\n",
        "near_hundred(90) → True\n",
        "near_hundred(89) → False"
      ]
    },
    {
      "metadata": {
        "id": "psRpqGSiVVPB",
        "colab_type": "code",
        "outputId": "6896f7f4-0b8e-49a2-9e5f-b1fb7aee4683",
        "colab": {
          "base_uri": "https://localhost:8080/",
          "height": 34
        }
      },
      "cell_type": "code",
      "source": [
        "def near_hundred(n):\n",
        "  \n",
        "  if(n>90 and n<111):\n",
        "    return True\n",
        "  if(n>110 and n<122):\n",
        "    return False\n",
        "  if(n>89):\n",
        "    return True\n",
        "  else:\n",
        "    return False\n",
        "  \n",
        "  \n",
        "assert near_hundred(89) == False\n",
        "assert near_hundred(110) == True\t\n",
        "assert near_hundred(111) == False\n",
        "assert near_hundred(121) == False\n",
        "near_hundred(-101) == False\n",
        "near_hundred(-209) == False\n",
        "near_hundred(190) == True\n",
        "print(\"All the testcases passed\")"
      ],
      "execution_count": 0,
      "outputs": [
        {
          "output_type": "stream",
          "text": [
            "All the testcases passed\n"
          ],
          "name": "stdout"
        }
      ]
    },
    {
      "metadata": {
        "id": "GG6OeyPfWgBi",
        "colab_type": "text"
      },
      "cell_type": "markdown",
      "source": [
        "Given 2 int values, return True if one is negative and one is positive. Except if the parameter \"negative\" is True, then return True only if both are negative.\n",
        "\n",
        "\n",
        "pos_neg(1, -1, False) → True\n",
        "pos_neg(-1, 1, False) → True\n",
        "pos_neg(-4, -5, True) → True"
      ]
    },
    {
      "metadata": {
        "id": "HQFebLGSWh3D",
        "colab_type": "code",
        "outputId": "57e07147-a19f-4f4c-fa98-a6c452b2f124",
        "colab": {
          "base_uri": "https://localhost:8080/",
          "height": 34
        }
      },
      "cell_type": "code",
      "source": [
        "def pos_neg(a, b, negative):\n",
        "  \n",
        "  if((a<0 and b<0) and negative==True):\n",
        "    return True\n",
        "  if((a>0 and b<0) and negative==False):\n",
        "    return True\n",
        "  if((a<0 and b>0) and negative==False):\n",
        "    return True\n",
        "  else:\n",
        "    return False\n",
        "  \n",
        "assert pos_neg(1, -1, True) == False\t\n",
        "assert pos_neg(-1, 1, True) == False\t\n",
        "assert pos_neg(1, 1, True) == False\n",
        "assert pos_neg(-1, -1, True) == True\t\n",
        "assert pos_neg(5, -5, False) == True\t\n",
        "assert pos_neg(-6, 6, False) == True\n",
        "print(\"All the testcases passed\")"
      ],
      "execution_count": 0,
      "outputs": [
        {
          "output_type": "stream",
          "text": [
            "All the testcases passed\n"
          ],
          "name": "stdout"
        }
      ]
    },
    {
      "metadata": {
        "id": "mT_-aF6XAfoA",
        "colab_type": "code",
        "colab": {}
      },
      "cell_type": "code",
      "source": [
        ""
      ],
      "execution_count": 0,
      "outputs": []
    }
  ]
}