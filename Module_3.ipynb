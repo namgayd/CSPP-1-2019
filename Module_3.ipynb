{
  "nbformat": 4,
  "nbformat_minor": 0,
  "metadata": {
    "colab": {
      "name": " Module-3.ipynb",
      "version": "0.3.2",
      "provenance": [],
      "collapsed_sections": [],
      "include_colab_link": true
    },
    "kernelspec": {
      "name": "python3",
      "display_name": "Python 3"
    }
  },
  "cells": [
    {
      "cell_type": "markdown",
      "metadata": {
        "id": "view-in-github",
        "colab_type": "text"
      },
      "source": [
        "<a href=\"https://colab.research.google.com/github/namgayd/CSPP-1-2019/blob/master/Module_3.ipynb\" target=\"_parent\"><img src=\"https://colab.research.google.com/assets/colab-badge.svg\" alt=\"Open In Colab\"/></a>"
      ]
    },
    {
      "metadata": {
        "id": "ESc8sxkTRPU0",
        "colab_type": "text"
      },
      "cell_type": "markdown",
      "source": [
        "Given an array of ints, return the number of 9's in the array.\n",
        "\n",
        "\n",
        "array_count9([1, 2, 9]) → 1\n",
        "array_count9([1, 9, 9]) → 2\n",
        "array_count9([1, 9, 9, 3, 9]) → 3"
      ]
    },
    {
      "metadata": {
        "id": "nt43uAjgRQmt",
        "colab_type": "code",
        "outputId": "8af6a36d-07a2-4350-a0b1-50c044a3ddfd",
        "colab": {
          "base_uri": "https://localhost:8080/",
          "height": 35
        }
      },
      "cell_type": "code",
      "source": [
        "def array_count9(nums):\n",
        "   \n",
        "    c=0\n",
        "    L=len(nums)\n",
        "    for i in range(L):\n",
        "      if nums[i]==9:\n",
        "        c=c+1\n",
        "    return c\n",
        "     \n",
        "      \n",
        "assert array_count9([1, 2, 9]) == 1\n",
        "assert array_count9([1, 9, 9]) == 2\n",
        "assert array_count9([1, 9, 9, 3, 9]) == 3\t\n",
        "assert array_count9([1, 2, 3]) == 0\n",
        "assert array_count9([]) == 0\n",
        "print(\" All testcases are passed!\")"
      ],
      "execution_count": 0,
      "outputs": [
        {
          "output_type": "stream",
          "text": [
            " All testcases are passed!\n"
          ],
          "name": "stdout"
        }
      ]
    },
    {
      "metadata": {
        "id": "L455CxnMSCrJ",
        "colab_type": "text"
      },
      "cell_type": "markdown",
      "source": [
        "Given an array of ints, return True if one of the first 4 elements in the array is a 9. The array length may be less than 4.\n",
        "\n",
        "\n",
        "array_front9([1, 2, 9, 3, 4]) → True\n",
        "array_front9([1, 2, 3, 4, 9]) → False\n",
        "array_front9([1, 2, 3, 4, 5]) → False"
      ]
    },
    {
      "metadata": {
        "id": "dJzVWnfdSNVs",
        "colab_type": "code",
        "outputId": "a98012d7-eb2e-4081-fde5-b7683529a4e7",
        "colab": {
          "base_uri": "https://localhost:8080/",
          "height": 35
        }
      },
      "cell_type": "code",
      "source": [
        "def array_front9(nums):\n",
        "   \n",
        "    L=len(nums)\n",
        "   \n",
        "    for i in range(L):\n",
        "       if nums[i] == 9:\n",
        "          return True\n",
        "    return False\n",
        "    \n",
        "\t\n",
        "assert array_front9([1, 9]) == True\n",
        "assert array_front9([5, 5]) == False\n",
        "assert array_front9([2]) == False\n",
        "assert array_front9([9]) == True\n",
        "assert array_front9([]) == False\n",
        "assert array_front9([3, 9, 2, 3, 3]) == True\n",
        "print(\" All testcases are passed!\")"
      ],
      "execution_count": 0,
      "outputs": [
        {
          "output_type": "stream",
          "text": [
            " All testcases are passed!\n"
          ],
          "name": "stdout"
        }
      ]
    },
    {
      "metadata": {
        "id": "yFYcVtdMSwXq",
        "colab_type": "text"
      },
      "cell_type": "markdown",
      "source": [
        "Given an array of ints, return True if the sequence of numbers 1, 2, 3 appears in the array somewhere.\n",
        "\n",
        "\n",
        "array123([1, 1, 2, 3, 1]) → True\n",
        "array123([1, 1, 2, 4, 1]) → False\n",
        "array123([1, 1, 2, 1, 2, 3]) → True"
      ]
    },
    {
      "metadata": {
        "id": "8APk4mbNSzTK",
        "colab_type": "code",
        "outputId": "7fa137ba-bbc4-4d72-b496-d840df104fe6",
        "colab": {
          "base_uri": "https://localhost:8080/",
          "height": 35
        }
      },
      "cell_type": "code",
      "source": [
        "def array123(nums):\n",
        "  L=len(nums)\n",
        "\t\n",
        "  for i in range(0,L-2):\n",
        "    if nums[i]==1 and  nums[i+1]==2 and  nums[i+2]==3:\n",
        "       return True\n",
        "      \n",
        "  return False\n",
        "\t\n",
        "assert array123([1, 1, 2, 3, 1]) == True\t\n",
        "assert array123([1, 1, 2, 4, 1]) == False\n",
        "assert array123([1, 1, 2, 1, 2, 3]) == True\n",
        "assert array123([1, 1, 2, 1, 2, 1]) == False\n",
        "assert array123([1, 2, 3, 1, 2, 3]) == True\n",
        "print(\" All testcases are passed!\")\n"
      ],
      "execution_count": 0,
      "outputs": [
        {
          "output_type": "stream",
          "text": [
            " All testcases are passed!\n"
          ],
          "name": "stdout"
        }
      ]
    },
    {
      "metadata": {
        "id": "fTHcPrdvVF_a",
        "colab_type": "text"
      },
      "cell_type": "markdown",
      "source": [
        "Given an array of ints, return True if 6 appears as either the first or last element in the array. The array will be length 1 or more.\n",
        "\n",
        "\n",
        "first_last6([1, 2, 6]) → True\n",
        "first_last6([6, 1, 2, 3]) → True\n",
        "first_last6([13, 6, 1, 2, 3]) → False"
      ]
    },
    {
      "metadata": {
        "id": "mh-CvCOMVHLH",
        "colab_type": "code",
        "outputId": "956454a6-b0ea-4d44-823c-557890f74737",
        "colab": {
          "base_uri": "https://localhost:8080/",
          "height": 35
        }
      },
      "cell_type": "code",
      "source": [
        "def first_last6(nums):\n",
        "  \n",
        "  L=len(nums)\n",
        "  if nums[0]==6 or nums[(L-1)]==6 :\n",
        "    return True\n",
        "  return False\n",
        "  \n",
        "assert first_last6([13, 6, 1, 2, 6]) == True\t\n",
        "assert first_last6([3, 2, 1]) == False\t\n",
        "assert first_last6([3, 6, 1]) == False\n",
        "assert first_last6([3, 6]) == True\n",
        "assert first_last6([6]) == True\n",
        "assert first_last6([3]) == False\n",
        "print(\" All testcases are passed!\")"
      ],
      "execution_count": 0,
      "outputs": [
        {
          "output_type": "stream",
          "text": [
            " All testcases are passed!\n"
          ],
          "name": "stdout"
        }
      ]
    },
    {
      "metadata": {
        "id": "Z2E1YedLVgoF",
        "colab_type": "text"
      },
      "cell_type": "markdown",
      "source": [
        "Given an array of ints, return True if the array is length 1 or more, and the first element and the last element are equal.\n",
        "\n",
        "\n",
        "same_first_last([1, 2, 3]) → False\n",
        "same_first_last([1, 2, 3, 1]) → True\n",
        "same_first_last([1, 2, 1]) → True"
      ]
    },
    {
      "metadata": {
        "id": "DHv_pXyaVhx0",
        "colab_type": "code",
        "outputId": "0956e05c-0a92-4292-d88e-48228751a5cf",
        "colab": {
          "base_uri": "https://localhost:8080/",
          "height": 35
        }
      },
      "cell_type": "code",
      "source": [
        "def same_first_last(nums):\n",
        "  \n",
        "  L=len(nums)-1\n",
        "  \n",
        "  if len(nums) >= 1: \n",
        "    if nums[0] == nums[L]:\n",
        "      \n",
        "\t\t    return True\n",
        "    \n",
        "  return False\n",
        "  \n",
        " \n",
        "assert same_first_last([1, 2, 1]) == True\n",
        "assert same_first_last([7]) == True\t\n",
        "assert same_first_last([]) == False\n",
        "assert same_first_last([1, 2, 3, 4, 5, 1]) == True\t\n",
        "assert same_first_last([1, 2, 3, 4, 5, 13]) == False\t\n",
        "assert same_first_last([13, 2, 3, 4, 5, 13]) == True\t\n",
        "print(\" All testcases are passed!\")"
      ],
      "execution_count": 0,
      "outputs": [
        {
          "output_type": "stream",
          "text": [
            " All testcases are passed!\n"
          ],
          "name": "stdout"
        }
      ]
    },
    {
      "metadata": {
        "id": "qWisxsfmVtKq",
        "colab_type": "text"
      },
      "cell_type": "markdown",
      "source": [
        "Return an int array length 3 containing the first 3 digits of pi, {3, 1, 4}.\n",
        "\n",
        "\n",
        "make_pi() → [3, 1, 4]"
      ]
    },
    {
      "metadata": {
        "id": "LLPz3YkLV7gS",
        "colab_type": "code",
        "outputId": "e92a71a6-08e6-46ee-f2a9-94646f6695db",
        "colab": {
          "base_uri": "https://localhost:8080/",
          "height": 35
        }
      },
      "cell_type": "code",
      "source": [
        "def make_pi():\n",
        "   return [3,1,4]\n",
        "assert make_pi() == [3, 1, 4]\n",
        "print(\" All testcases are passed!\")"
      ],
      "execution_count": 0,
      "outputs": [
        {
          "output_type": "stream",
          "text": [
            " All testcases are passed!\n"
          ],
          "name": "stdout"
        }
      ]
    },
    {
      "metadata": {
        "id": "Aj9uKHfiV_dg",
        "colab_type": "text"
      },
      "cell_type": "markdown",
      "source": [
        "Given 2 arrays of ints, a and b, return True if they have the same first element or they have the same last element. Both arrays will be length 1 or more.\n",
        "\n",
        "\n",
        "common_end([1, 2, 3], [7, 3]) → True\n",
        "common_end([1, 2, 3], [7, 3, 2]) → False\n",
        "common_end([1, 2, 3], [1, 3]) → True\n"
      ]
    },
    {
      "metadata": {
        "id": "OfcIPDWAWFJJ",
        "colab_type": "code",
        "outputId": "e183d9aa-4cf0-4c25-d2bc-1b8be3c7b7f5",
        "colab": {
          "base_uri": "https://localhost:8080/",
          "height": 35
        }
      },
      "cell_type": "code",
      "source": [
        "def common_end(a, b):\n",
        "  \n",
        "  la=len(a)\n",
        "  lb=len(b)\n",
        "  \n",
        "  if a[0]==b[0] or a[la-1]==b[lb-1]:\n",
        "    return True\n",
        "  return False\n",
        "  \n",
        "assert common_end([1, 2, 3], [7, 3]) == True\n",
        "assert common_end([1, 2, 3], [7, 3, 2]) == False\t\n",
        "assert common_end([1, 2, 3], [1, 3]) == True\t\t\n",
        "assert common_end([1, 2, 3], [1]) == True\t\n",
        "assert common_end([1, 2, 3], [2]) == False\t\n",
        "print(\" All testcases are passed!\")"
      ],
      "execution_count": 0,
      "outputs": [
        {
          "output_type": "stream",
          "text": [
            " All testcases are passed!\n"
          ],
          "name": "stdout"
        }
      ]
    },
    {
      "metadata": {
        "id": "nfEcSxoCWPUu",
        "colab_type": "text"
      },
      "cell_type": "markdown",
      "source": [
        ""
      ]
    },
    {
      "metadata": {
        "id": "vWymYV9UWVix",
        "colab_type": "text"
      },
      "cell_type": "markdown",
      "source": [
        "Given an array of ints length 3, return the sum of all the elements.\n",
        "\n",
        "\n",
        "sum3([1, 2, 3]) → 6\n",
        "sum3([5, 11, 2]) → 18\n",
        "sum3([7, 0, 0]) → 7"
      ]
    },
    {
      "metadata": {
        "id": "rmRKbLb7WWRS",
        "colab_type": "code",
        "outputId": "67757efa-c5e6-45b2-a638-bbaa957c5e71",
        "colab": {
          "base_uri": "https://localhost:8080/",
          "height": 35
        }
      },
      "cell_type": "code",
      "source": [
        "def sum3(nums):\n",
        "  \n",
        "    sum=0\n",
        "    L=len(nums)\n",
        "    \n",
        "    for i in range(L):\n",
        "      sum=sum+nums[i]\n",
        "    return sum\n",
        "      \n",
        "      \n",
        "         \n",
        "      \n",
        "assert sum3([1, 2, 3]) == 6\t\n",
        "assert sum3([5, 11, 2]) == 18\n",
        "assert sum3([7, 0, 0]) == 7\n",
        "assert sum3([1, 2, 1]) == 4\n",
        "assert sum3([1, 1, 1]) == 3\n",
        "print(\" All testcases are passed!\")"
      ],
      "execution_count": 0,
      "outputs": [
        {
          "output_type": "stream",
          "text": [
            " All testcases are passed!\n"
          ],
          "name": "stdout"
        }
      ]
    },
    {
      "metadata": {
        "id": "HiL8gzfWWiqj",
        "colab_type": "text"
      },
      "cell_type": "markdown",
      "source": [
        "Given an array of ints length 3, return an array with the elements \"rotated left\" so {1, 2, 3} yields {2, 3, 1}.\n",
        "\n",
        "\n",
        "rotate_left3([1, 2, 3]) → [2, 3, 1]\n",
        "rotate_left3([5, 11, 9]) → [11, 9, 5]\n",
        "rotate_left3([7, 0, 0]) → [0, 0, 7]\n"
      ]
    },
    {
      "metadata": {
        "id": "SnAer3gVWoij",
        "colab_type": "code",
        "outputId": "9ed88399-b8b0-449f-a098-175c0be8c05a",
        "colab": {
          "base_uri": "https://localhost:8080/",
          "height": 35
        }
      },
      "cell_type": "code",
      "source": [
        "def rotate_left3(nums):\n",
        "   \n",
        "    return [nums[1], nums[2] ,nums[0]]\n",
        "  \n",
        "assert rotate_left3([5, 11, 9]) == [11, 9, 5]\t\n",
        "assert rotate_left3([7, 0, 0]) == [0, 0, 7]\t\n",
        "assert rotate_left3([1, 2, 1]) == [2, 1, 1]\n",
        "assert rotate_left3([0, 0, 1]) == [0, 1, 0]\n",
        "print(\" All testcases are passed!\")"
      ],
      "execution_count": 0,
      "outputs": [
        {
          "output_type": "stream",
          "text": [
            " All testcases are passed!\n"
          ],
          "name": "stdout"
        }
      ]
    },
    {
      "metadata": {
        "id": "eeblEVbHWza9",
        "colab_type": "text"
      },
      "cell_type": "markdown",
      "source": [
        "Given an array of ints length 3, return a new array with the elements in reverse order, so {1, 2, 3} becomes {3, 2, 1}.\n",
        "\n",
        "\n",
        "reverse3([1, 2, 3]) → [3, 2, 1]\n",
        "reverse3([5, 11, 9]) → [9, 11, 5]\n",
        "reverse3([7, 0, 0]) → [0, 0, 7]"
      ]
    },
    {
      "metadata": {
        "id": "4N9YyCHjXIMx",
        "colab_type": "code",
        "outputId": "b0021449-0683-4a69-f48a-1bcb61d0ac8f",
        "colab": {
          "base_uri": "https://localhost:8080/",
          "height": 35
        }
      },
      "cell_type": "code",
      "source": [
        "def reverse3(nums):\n",
        "  \n",
        "   return [nums[2],nums[1],nums[0]]\n",
        "  \n",
        "  \n",
        "assert reverse3([7, 0, 0]) == [0, 0, 7]\n",
        "assert reverse3([2, 1, 2]) == [2, 1, 2]\n",
        "assert reverse3([1, 2, 1]) == [1, 2, 1]\n",
        "assert reverse3([2, 11, 3]) == [3, 11, 2]\n",
        "assert reverse3([0, 6, 5]) == [5, 6, 0]\n",
        "assert reverse3([7, 2, 3]) == [3, 2, 7]\n",
        "print(\" All testcases are passed!\")"
      ],
      "execution_count": 0,
      "outputs": [
        {
          "output_type": "stream",
          "text": [
            " All testcases are passed!\n"
          ],
          "name": "stdout"
        }
      ]
    },
    {
      "metadata": {
        "id": "fOzH2osMXReq",
        "colab_type": "text"
      },
      "cell_type": "markdown",
      "source": [
        "Given an array of ints length 3, figure out which is larger, the first or last element in the array, and set all the other elements to be that value. Return the changed array.\n",
        "\n",
        "\n",
        "max_end3([1, 2, 3]) → [3, 3, 3]\n",
        "max_end3([11, 5, 9]) → [11, 11, 11]\n",
        "max_end3([2, 11, 3]) → [3, 3, 3]"
      ]
    },
    {
      "metadata": {
        "id": "42JFbxMyXd-r",
        "colab_type": "code",
        "outputId": "ad8ab95e-b95a-43c5-a17f-6e359ea09083",
        "colab": {
          "base_uri": "https://localhost:8080/",
          "height": 35
        }
      },
      "cell_type": "code",
      "source": [
        "def max_end3(nums):\n",
        "   \n",
        "    if nums[0] > nums[2]:\n",
        "      x=nums[0]\n",
        "    else:\n",
        "      x= nums[2]\n",
        "      \n",
        "    return[x,x,x]\n",
        "    \n",
        "\n",
        "\n",
        "\n",
        "\n",
        "assert max_end3([2, 11, 3]) == [3, 3, 3]\t\t\n",
        "assert max_end3([11, 3, 3]) == [11, 11, 11]\t\n",
        "assert max_end3([3, 11, 11]) == [11, 11, 11]\t\n",
        "assert max_end3([2, 2, 2]) == [2, 2, 2]\t\n",
        "assert max_end3([2, 11, 2]) == [2, 2, 2]\t\n",
        "assert max_end3([0, 0, 1]) == [1, 1, 1]\n",
        "print(\" All testcases are passed!\")"
      ],
      "execution_count": 0,
      "outputs": [
        {
          "output_type": "stream",
          "text": [
            " All testcases are passed!\n"
          ],
          "name": "stdout"
        }
      ]
    },
    {
      "metadata": {
        "id": "Iror1XnWYJXe",
        "colab_type": "code",
        "outputId": "f3db237a-a110-4808-d8ce-e52e5063c3f3",
        "colab": {
          "base_uri": "https://localhost:8080/",
          "height": 35
        }
      },
      "cell_type": "code",
      "source": [
        "def sum2(nums):\n",
        "  L=len(nums)\n",
        " \n",
        " \n",
        "  if L==0:\n",
        "      \n",
        "      return 0\n",
        "  elif L<2:\n",
        "      return nums[0]\n",
        "  else:\n",
        "      sum=nums[0]+nums[1]\n",
        "      return sum\n",
        "        \n",
        "      \n",
        "    \n",
        "  \n",
        "assert sum2([1, 1, 1, 1]) == 2\t\t\n",
        "assert sum2([1, 2]) == 3\t\n",
        "assert sum2([1])== 1\t\n",
        "assert sum2([])== 0\n",
        "assert sum2([4, 5, 6]) == 9\n",
        "assert sum2([4]) == 4\n",
        "print(\" All testcases are passed!\")"
      ],
      "execution_count": 0,
      "outputs": [
        {
          "output_type": "stream",
          "text": [
            " All testcases are passed!\n"
          ],
          "name": "stdout"
        }
      ]
    },
    {
      "metadata": {
        "id": "bSW3c2npYB6P",
        "colab_type": "text"
      },
      "cell_type": "markdown",
      "source": [
        "Given an array of ints, return the sum of the first 2 elements in the array. If the array length is less than 2, just sum up the elements that exist, returning 0 if the array is length 0.\n",
        "\n",
        "\n",
        "sum2([1, 2, 3]) → 3\n",
        "sum2([1, 1]) → 2\n",
        "sum2([1, 1, 1, 1]) → 2"
      ]
    },
    {
      "metadata": {
        "id": "NO-xD9xRYVum",
        "colab_type": "text"
      },
      "cell_type": "markdown",
      "source": [
        "Given 2 int arrays, a and b, each length 3, return a new array length 2 containing their middle elements.\n",
        "\n",
        "\n",
        "middle_way([1, 2, 3], [4, 5, 6]) → [2, 5]\n",
        "middle_way([7, 7, 7], [3, 8, 0]) → [7, 8]\n",
        "middle_way([5, 2, 9], [1, 4, 5]) → [2, 4]"
      ]
    },
    {
      "metadata": {
        "id": "8HfSD9BiYdow",
        "colab_type": "code",
        "outputId": "29d5636e-7c6a-4008-8d05-eee12340db86",
        "colab": {
          "base_uri": "https://localhost:8080/",
          "height": 34
        }
      },
      "cell_type": "code",
      "source": [
        "def middle_way(a, b):\n",
        "   return [a[1],b[1]]\n",
        "\n",
        "\n",
        "assert middle_way([7, 7, 7], [3, 8, 0]) == [7, 8]\n",
        "assert middle_way([5, 2, 9], [1, 4, 5]) == [2, 4]\t\n",
        "assert middle_way([1, 9, 7], [4, 8, 8]) == [9, 8]\n",
        "assert middle_way([1, 2, 3], [3, 1, 4]) == [2, 1]\n",
        "assert middle_way([1, 2, 3], [4, 1, 1]) == [2, 1]\n",
        "print(\" All testcases are passed!\")"
      ],
      "execution_count": 0,
      "outputs": [
        {
          "output_type": "stream",
          "text": [
            " All testcases are passed!\n"
          ],
          "name": "stdout"
        }
      ]
    },
    {
      "metadata": {
        "id": "Yw8hyJz_Y1f5",
        "colab_type": "text"
      },
      "cell_type": "markdown",
      "source": [
        "Given an array of ints, return a new array length 2 containing the first and last elements from the original array. The original array will be length 1 or more.\n",
        "\n",
        "\n",
        "make_ends([1, 2, 3]) → [1, 3]\n",
        "make_ends([1, 2, 3, 4]) → [1, 4]\n",
        "make_ends([7, 4, 6, 2]) → [7, 2]"
      ]
    },
    {
      "metadata": {
        "id": "6p6phJvhD-eL",
        "colab_type": "code",
        "colab": {}
      },
      "cell_type": "code",
      "source": [
        ""
      ],
      "execution_count": 0,
      "outputs": []
    },
    {
      "metadata": {
        "id": "Uw3tU1XHY75M",
        "colab_type": "code",
        "outputId": "dd788139-3809-41a0-d1d4-dfdac97a156e",
        "colab": {
          "base_uri": "https://localhost:8080/",
          "height": 35
        }
      },
      "cell_type": "code",
      "source": [
        "def make_ends(nums):\n",
        "   \n",
        "    \n",
        "    L=len(nums)-1\n",
        "    \n",
        "    if L>=1:\n",
        "        return [nums[0],nums[L]]\n",
        "    else:\n",
        "        x=nums[0]\n",
        "        return [x,x]\n",
        "      \n",
        "    \n",
        "\n",
        "\n",
        "assert make_ends([7, 4, 6, 2]) == [7, 2]\t\n",
        "assert make_ends([1, 2, 2, 2, 2, 2, 2, 3]) == [1, 3]\t\n",
        "assert make_ends([7, 4]) == [7, 4]\n",
        "assert make_ends([7]) == [7, 7]\t\n",
        "assert make_ends([5, 2, 9]) == [5, 9]\t\n",
        "assert make_ends([2, 3, 4, 1]) == [2, 1]\t\n",
        "print(\" All testcases are passed!\")"
      ],
      "execution_count": 0,
      "outputs": [
        {
          "output_type": "stream",
          "text": [
            " All testcases are passed!\n"
          ],
          "name": "stdout"
        }
      ]
    },
    {
      "metadata": {
        "id": "cQ_I-KBPb-PK",
        "colab_type": "text"
      },
      "cell_type": "markdown",
      "source": [
        "Given an int array length 2, return True if it contains a 2 or a 3.\n",
        "\n",
        "\n",
        "has23([2, 5]) → True\n",
        "has23([4, 3]) → True\n",
        "has23([4, 5]) → False"
      ]
    },
    {
      "metadata": {
        "id": "ZBVkwj1BcDFH",
        "colab_type": "code",
        "outputId": "624997f1-fa07-4e5e-84a7-cd9f87232231",
        "colab": {
          "base_uri": "https://localhost:8080/",
          "height": 35
        }
      },
      "cell_type": "code",
      "source": [
        "def has23(nums):\n",
        "  if nums[0]==2 or nums[0]==3 or nums[1]==2 or nums[1]==3:\n",
        "    return True\n",
        "  else:\n",
        "    return False\n",
        "assert has23([2, 2]) == True\t\n",
        "assert has23([3, 2]) == True\t\t\n",
        "assert has23([3, 3]) == True\t\n",
        "assert has23([7, 7]) == False\t\n",
        "assert has23([3, 9]) == True\t\t\n",
        "assert has23([9, 5]) == False\n",
        "print(\" All testcases are passed!\")"
      ],
      "execution_count": 0,
      "outputs": [
        {
          "output_type": "stream",
          "text": [
            " All testcases are passed!\n"
          ],
          "name": "stdout"
        }
      ]
    },
    {
      "metadata": {
        "id": "ve80ozevcXMA",
        "colab_type": "text"
      },
      "cell_type": "markdown",
      "source": [
        "Return the number of even ints in the given array. Note: the % \"mod\" operator computes the remainder, e.g. 5 % 2 is 1.\n",
        "\n",
        "\n",
        "count_evens([2, 1, 2, 3, 4]) → 3\n",
        "count_evens([2, 2, 0]) → 3\n",
        "count_evens([1, 3, 5]) → 0"
      ]
    },
    {
      "metadata": {
        "id": "Iaae3AD3cYFj",
        "colab_type": "code",
        "outputId": "c352fb47-b92d-45aa-c78f-86377ad93388",
        "colab": {
          "base_uri": "https://localhost:8080/",
          "height": 35
        }
      },
      "cell_type": "code",
      "source": [
        "def count_evens(nums):\n",
        "  count = 0\n",
        "  for n in nums:\n",
        "    if n % 2 == 0:\n",
        "      count = count + 1\n",
        "  return count\n",
        "    \n",
        "    \n",
        "\n",
        "\n",
        "assert count_evens([2, 1, 2, 3, 4])== 3\t\n",
        "assert count_evens([2, 2, 0]) == 3\t\n",
        "assert count_evens([1, 3, 5]) == 0\n",
        "assert count_evens([]) == 0\t\n",
        "assert count_evens([11, 9, 0, 1]) == 1\t\n",
        "assert count_evens([2, 11, 9, 0]) == 2\t\n",
        "assert count_evens([2]) == 1\t\n",
        "assert count_evens([2, 5, 12]) == 2\t\n",
        "print(\" All testcases are passed!\")"
      ],
      "execution_count": 0,
      "outputs": [
        {
          "output_type": "stream",
          "text": [
            " All testcases are passed!\n"
          ],
          "name": "stdout"
        }
      ]
    },
    {
      "metadata": {
        "id": "Max5tQBEckqN",
        "colab_type": "text"
      },
      "cell_type": "markdown",
      "source": [
        "Given an array length 1 or more of ints, return the difference between the largest and smallest values in the array. Note: the built-in min(v1, v2) and max(v1, v2) functions return the smaller or larger of two values.\n",
        "\n",
        "\n",
        "big_diff([10, 3, 5, 6]) → 7\n",
        "big_diff([7, 2, 10, 9]) → 8\n",
        "big_diff([2, 10, 7, 2]) → 8"
      ]
    },
    {
      "metadata": {
        "id": "zqyy4o7zco3r",
        "colab_type": "code",
        "outputId": "d535014b-ee8e-4d53-b78c-e62245a0a6dc",
        "colab": {
          "base_uri": "https://localhost:8080/",
          "height": 35
        }
      },
      "cell_type": "code",
      "source": [
        "def big_diff(nums):\n",
        "  \n",
        "  difference=max(nums)-min(nums)\n",
        "  \n",
        "  return difference\n",
        "\n",
        "assert big_diff([10, 2]) == 8\n",
        "assert big_diff([10, 0]) == 10\t\n",
        "assert big_diff([2, 3]) == 1\t\t\n",
        "assert big_diff([2, 2]) == 0\t\t\n",
        "assert big_diff([2]) == 0\t\t\n",
        "assert big_diff([5, 1, 6, 1, 9, 9]) == 8\t\n",
        "assert big_diff([7, 6, 8, 5]) == 3\t\n",
        "assert big_diff([7, 7, 6, 8, 5, 5, 6]) == 3\n",
        "print(\" All testcases are passed!\")"
      ],
      "execution_count": 0,
      "outputs": [
        {
          "output_type": "stream",
          "text": [
            " All testcases are passed!\n"
          ],
          "name": "stdout"
        }
      ]
    },
    {
      "metadata": {
        "id": "eM6e-9Uod_Ad",
        "colab_type": "text"
      },
      "cell_type": "markdown",
      "source": [
        "Return the \"centered\" average of an array of ints, which we'll say is the mean average of the values, except ignoring the largest and smallest values in the array. If there are multiple copies of the smallest value, ignore just one copy, and likewise for the largest value. Use int division to produce the final average. You may assume that the array is length 3 or more.\n",
        "\n",
        "\n",
        "centered_average([1, 2, 3, 4, 100]) → 3\n",
        "centered_average([1, 1, 5, 5, 10, 8, 7]) → 5\n",
        "centered_average([-10, -4, -2, -4, -2, 0]) → -3"
      ]
    },
    {
      "metadata": {
        "id": "HNV1ybzbeF0i",
        "colab_type": "code",
        "outputId": "4c629203-d540-4614-eb21-887e2f561a6b",
        "colab": {
          "base_uri": "https://localhost:8080/",
          "height": 35
        }
      },
      "cell_type": "code",
      "source": [
        "def centered_average(nums):\n",
        "  var1=nums.sort()\n",
        "  var1=nums.pop(0)\n",
        "  var1=nums.pop()\n",
        "  L=len(nums)\n",
        "  \n",
        "  s=sum(nums)//L\n",
        "  \n",
        "  return s\n",
        "  pass\n",
        "assert centered_average([-10, -4, -2, -4, -2, 0]) == -3\t\n",
        "assert centered_average([5, 3, 4, 6, 2]) == 4\t\t\n",
        "assert centered_average([5, 3, 4, 0, 100]) == 4\t\n",
        "assert centered_average([100, 0, 5, 3, 4]) == 4\n",
        "assert centered_average([4, 0, 100]) == 4\t\n",
        "assert centered_average([0, 2, 3, 4, 100]) == 3\t\n",
        "assert centered_average([1, 1, 100]) == 1\t\n",
        "assert centered_average([7, 7, 7]) == 7\t\n",
        "print(\" All testcases are passed!\")"
      ],
      "execution_count": 0,
      "outputs": [
        {
          "output_type": "stream",
          "text": [
            " All testcases are passed!\n"
          ],
          "name": "stdout"
        }
      ]
    },
    {
      "metadata": {
        "id": "JMn-grrzeSsQ",
        "colab_type": "text"
      },
      "cell_type": "markdown",
      "source": [
        "Return the sum of the numbers in the array, returning 0 for an empty array. Except the number 13 is very unlucky, so it does not count and numbers that come immediately after a 13 also do not count.\n",
        "\n",
        "\n",
        "sum13([1, 2, 2, 1]) → 6\n",
        "sum13([1, 1]) → 2\n",
        "sum13([1, 2, 2, 1, 13]) → 6"
      ]
    },
    {
      "metadata": {
        "id": "qodR8M2VeZul",
        "colab_type": "code",
        "outputId": "aecd8b7b-2ccf-4788-9cde-caa96c4caad8",
        "colab": {
          "base_uri": "https://localhost:8080/",
          "height": 133
        }
      },
      "cell_type": "code",
      "source": [
        "def sum13(nums):\n",
        "  L=len(nums)\n",
        "  i=0\n",
        "  sum= 0\n",
        "  for i in range(L):\n",
        "    if nums[i]! == 13:\n",
        "      sum=sum+nums[i]\n",
        "      \n",
        "  \n",
        "\n",
        "    \n",
        "  \n",
        "assert sum13([1, 2, 2, 1, 13]) == 6\n",
        "assert sum13([1, 2, 13, 2, 1, 13]) == 4\t\t\n",
        "assert sum13([13, 1, 2, 13, 2, 1, 13]) == 3\t\n",
        "assert sum13([]) == 0\n",
        "assert sum13([13]) == 0\n",
        "assert sum13([13, 13]) == 0\n",
        "assert sum13([13, 0, 13]) == 0\t\n",
        "assert sum13([13, 1, 13]) == 0\n",
        "print(\" All testcases are passed!\")"
      ],
      "execution_count": 0,
      "outputs": [
        {
          "output_type": "error",
          "ename": "IndentationError",
          "evalue": "ignored",
          "traceback": [
            "\u001b[0;36m  File \u001b[0;32m\"<ipython-input-1-227a87b7b79d>\"\u001b[0;36m, line \u001b[0;32m3\u001b[0m\n\u001b[0;31m    sum = 0\u001b[0m\n\u001b[0m      ^\u001b[0m\n\u001b[0;31mIndentationError\u001b[0m\u001b[0;31m:\u001b[0m expected an indented block\n"
          ]
        }
      ]
    },
    {
      "metadata": {
        "id": "Ekxg3w-nfeHm",
        "colab_type": "text"
      },
      "cell_type": "markdown",
      "source": [
        "Return the sum of the numbers in the array, except ignore sections of numbers starting with a 6 and extending to the next 7 (every 6 will be followed by at least one 7). Return 0 for no numbers.\n",
        "\n",
        "\n",
        "sum67([1, 2, 2]) → 5\n",
        "sum67([1, 2, 2, 6, 99, 99, 7]) → 5\n",
        "sum67([1, 1, 6, 7, 2]) → 4"
      ]
    },
    {
      "metadata": {
        "id": "hZvyveNSfneh",
        "colab_type": "code",
        "outputId": "c1140659-b18c-4f5a-f8bb-2297897c7c8d",
        "colab": {
          "base_uri": "https://localhost:8080/",
          "height": 133
        }
      },
      "cell_type": "code",
      "source": [
        "def sum67(nums):\n",
        "  #\n",
        " \n",
        "      \n",
        "        \n",
        "assert sum67([2, 7, 6, 2, 6, 7, 2, 7]) == 18\t\n",
        "assert sum67([2, 7, 6, 2, 6, 2, 7]) == 9\n",
        "assert sum67([1, 6, 7, 7]) == 8\t\n",
        "assert sum67([6, 7, 1, 6, 7, 7]) == 8\t\n",
        "assert sum67([6, 8, 1, 6, 7]) == 0\n",
        "assert sum67([]) == 0\t\n",
        "assert sum67([6, 7, 11]) == 11\n",
        "assert sum67([11, 6, 7, 11]) == 22\n",
        "assert sum67([2, 2, 6, 7, 7]) == 11\t\n",
        "print(\" All testcases are passed!\")"
      ],
      "execution_count": 0,
      "outputs": [
        {
          "output_type": "error",
          "ename": "IndentationError",
          "evalue": "ignored",
          "traceback": [
            "\u001b[0;36m  File \u001b[0;32m\"<ipython-input-4-903446010662>\"\u001b[0;36m, line \u001b[0;32m6\u001b[0m\n\u001b[0;31m    assert sum67([2, 7, 6, 2, 6, 7, 2, 7]) == 18\u001b[0m\n\u001b[0m         ^\u001b[0m\n\u001b[0;31mIndentationError\u001b[0m\u001b[0;31m:\u001b[0m expected an indented block\n"
          ]
        }
      ]
    },
    {
      "metadata": {
        "id": "DgwgpCYNfyhG",
        "colab_type": "text"
      },
      "cell_type": "markdown",
      "source": [
        "Given an array of ints, return True if the array contains a 2 next to a 2 somewhere.\n",
        "\n",
        "\n",
        "has22([1, 2, 2]) → True\n",
        "has22([1, 2, 1, 2]) → False\n",
        "has22([2, 1, 2]) → False"
      ]
    },
    {
      "metadata": {
        "id": "z6bUtcxBgJJc",
        "colab_type": "code",
        "outputId": "56b77ed5-6507-47a8-e7c4-43162767d8fa",
        "colab": {
          "base_uri": "https://localhost:8080/",
          "height": 35
        }
      },
      "cell_type": "code",
      "source": [
        "def has22(nums):\n",
        "  \n",
        "  L=len(nums)-1\n",
        "  for i in range(L):\n",
        "    if nums[i]==2 and nums[i+1]==2:\n",
        "      return True\n",
        "  else:\n",
        "    return False\n",
        "  \n",
        "assert has22([1, 3, 2, 2]) == True\t\n",
        "assert has22([2, 3, 2, 2]) == True\t\n",
        "assert has22([4, 2, 4, 2, 2, 5]) == True\n",
        "assert has22([1, 2]) == False\n",
        "assert has22([2, 2]) == True\n",
        "assert has22([2]) == False\t\n",
        "assert has22([]) == False\t\n",
        "assert has22([3, 3, 2, 2]) ==True\t\n",
        "print(\" All testcases are passed!\")"
      ],
      "execution_count": 0,
      "outputs": [
        {
          "output_type": "stream",
          "text": [
            " All testcases are passed!\n"
          ],
          "name": "stdout"
        }
      ]
    },
    {
      "metadata": {
        "id": "IeIN1PM7m12k",
        "colab_type": "text"
      },
      "cell_type": "markdown",
      "source": [
        ""
      ]
    }
  ]
}